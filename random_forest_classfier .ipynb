{
 "cells": [
  {
   "cell_type": "code",
   "execution_count": 1,
   "id": "fe8d0c00",
   "metadata": {},
   "outputs": [
    {
     "name": "stderr",
     "output_type": "stream",
     "text": [
      "[nltk_data] Downloading package averaged_perceptron_tagger to\n",
      "[nltk_data]     /home/dc17540/nltk_data...\n",
      "[nltk_data]   Package averaged_perceptron_tagger is already up-to-\n",
      "[nltk_data]       date!\n",
      "[nltk_data] Downloading package wordnet to /home/dc17540/nltk_data...\n",
      "[nltk_data]   Package wordnet is already up-to-date!\n"
     ]
    }
   ],
   "source": [
    "import pandas as pd\n",
    "import numpy as np\n",
    "import re, string\n",
    "import nltk\n",
    "nltk.download('averaged_perceptron_tagger')\n",
    "nltk.download('wordnet')#for model-building\n",
    "from sklearn.model_selection import train_test_split\n",
    "from sklearn.linear_model import LogisticRegression\n",
    "from sklearn.naive_bayes import MultinomialNB\n",
    "from sklearn.metrics import classification_report, f1_score, accuracy_score, confusion_matrix\n",
    "from sklearn.metrics import roc_curve, auc, roc_auc_score# bag of words\n",
    "from sklearn.feature_extraction.text import TfidfVectorizer\n",
    "from sklearn.feature_extraction.text import CountVectorizer#for word embedding\n",
    "import seaborn as sns\n",
    "import matplotlib.pyplot as plt\n",
    "\n",
    "theCsv = pd.read_csv(\"person1Body_default_RvB.csv\")\n",
    "\n",
    "\n",
    "\n",
    "#theCsvTrain = theCsv[theCsv[\"isTraining\"]== 1]\n",
    "#theCsvTest = theCsv[theCsv[\"isTraining\"]== 0]\n"
   ]
  },
  {
   "cell_type": "code",
   "execution_count": 2,
   "id": "f6c76060",
   "metadata": {},
   "outputs": [
    {
     "data": {
      "text/plain": [
       "1290"
      ]
     },
     "execution_count": 2,
     "metadata": {},
     "output_type": "execute_result"
    }
   ],
   "source": [
    "theCsv = pd.read_csv(\"person1Body_default_RvB.csv\")\n",
    "                     \n",
    "theCsv = theCsv[2100:2100+1290]\n",
    "\n",
    "len(theCsv)"
   ]
  },
  {
   "cell_type": "code",
   "execution_count": 3,
   "id": "7063c0b6",
   "metadata": {},
   "outputs": [],
   "source": [
    "theS =np.concatenate((np.full(16*30, 1),np.full(11*30,3),np.full(1*30, 4),np.full(11*30,2),np.full(2*30, 3),np.full(2*30,4)),axis=None)\n",
    "len(theS)\n",
    "theCsv[\"output\"] = theS\n",
    "\n",
    "from sklearn.model_selection import train_test_split\n",
    "\n",
    "X= theCsv.loc[:, theCsv.columns != \"output\"]\n",
    "y= theCsv[\"output\"]\n",
    "  \n",
    "\n",
    "    \n",
    "# using the train test split function\n",
    "#X_train, X_test,\n",
    "#y_train, y_test \n",
    "\n",
    "theWoo = train_test_split(X,y ,\n",
    "                                   random_state=104, \n",
    "                                   test_size=0.25, \n",
    "                                   shuffle=True)\n",
    "\n",
    "X_train = theWoo[0]\n",
    "X_test = theWoo[1]\n",
    "y_train = theWoo[2]\n",
    "y_test = theWoo[3]\n"
   ]
  },
  {
   "cell_type": "code",
   "execution_count": 10,
   "id": "6670d074",
   "metadata": {},
   "outputs": [
    {
     "name": "stdout",
     "output_type": "stream",
     "text": [
      "1290\n"
     ]
    },
    {
     "name": "stderr",
     "output_type": "stream",
     "text": [
      "/home/dc17540/anaconda3/lib/python3.9/site-packages/seaborn/categorical.py:3717: UserWarning: The `factorplot` function has been renamed to `catplot`. The original name will be removed in a future release. Please update your code. Note that the default `kind` in `factorplot` (`'point'`) has changed `'strip'` in `catplot`.\n",
      "  warnings.warn(msg)\n"
     ]
    },
    {
     "data": {
      "text/plain": [
       "Text(0.5, 1.0, \"Dancer 1's Movement\")"
      ]
     },
     "execution_count": 10,
     "metadata": {},
     "output_type": "execute_result"
    },
    {
     "data": {
      "image/png": "[encoded data removed]",
      "text/plain": [
       "<Figure size 360x360 with 1 Axes>"
      ]
     },
     "metadata": {
      "needs_background": "light"
     },
     "output_type": "display_data"
    }
   ],
   "source": [
    "theCount = [0,0,0,0]\n",
    "\n",
    "for ele in theS.tolist():\n",
    "    if(ele == 1):\n",
    "        theCount[0] += 1\n",
    "    elif(ele == 2):\n",
    "        theCount[1] += 1\n",
    "    elif(ele == 3):\n",
    "        theCount[2] += 1\n",
    "    else:\n",
    "        theCount[3] += 1\n",
    "\n",
    "print(sum(theCount))\n",
    "dfs = pd.DataFrame(data={'Type of Movement': ['Toprock','Footwork',\"Powermoves\",\"Freezes\"], 'Number of Frames': theCount})\n",
    "sns.factorplot(x='Type of Movement', y='Number of Frames', data=dfs, kind='bar')\n",
    "plt.title(\"Dancer 1's Movement\")"
   ]
  },
  {
   "cell_type": "code",
   "execution_count": 5,
   "id": "dd465f4a",
   "metadata": {},
   "outputs": [
    {
     "name": "stdout",
     "output_type": "stream",
     "text": [
      "ACCURACY OF THE MODEL:  0.9659442724458205\n",
      "Confusion Matrix: [[118   0   0   0]\n",
      " [  0  78   0   2]\n",
      " [  1   2  99   2]\n",
      " [  0   3   1  17]]\n"
     ]
    }
   ],
   "source": [
    "from sklearn.ensemble import RandomForestClassifier\n",
    "# creating a RF classifier\n",
    "clf = RandomForestClassifier(n_estimators = 100) \n",
    " \n",
    "# Training the model on the training dataset\n",
    "# fit function is used to train the model using the training sets as parameters\n",
    "clf.fit(X_train,y_train)\n",
    " \n",
    "# performing predictions on the test dataset\n",
    "y_pred = clf.predict(X_test)\n",
    " \n",
    "# metrics are used to find accuracy or error\n",
    "from sklearn import metrics \n",
    " \n",
    "# using metrics module for accuracy calculation\n",
    "print(\"ACCURACY OF THE MODEL: \", metrics.accuracy_score(y_test, y_pred))\n",
    "print('Confusion Matrix:',confusion_matrix(y_test, y_pred))"
   ]
  },
  {
   "cell_type": "code",
   "execution_count": null,
   "id": "236bf6ef",
   "metadata": {},
   "outputs": [],
   "source": []
  }
 ],
 "metadata": {
  "kernelspec": {
   "display_name": "Python 3 (ipykernel)",
   "language": "python",
   "name": "python3"
  },
  "language_info": {
   "codemirror_mode": {
    "name": "ipython",
    "version": 3
   },
   "file_extension": ".py",
   "mimetype": "text/x-python",
   "name": "python",
   "nbconvert_exporter": "python",
   "pygments_lexer": "ipython3",
   "version": "3.9.7"
  }
 },
 "nbformat": 4,
 "nbformat_minor": 5
}
